{
  "cells": [
    {
      "cell_type": "markdown",
      "id": "31d9a4c9",
      "metadata": {
        "origin_pos": 0,
        "id": "31d9a4c9"
      },
      "source": [
        "# Using Jupyter Notebooks\n",
        ":label:`sec_jupyter`\n",
        "\n",
        "\n",
        "This section describes how to edit and run the code\n",
        "in each section of this book\n",
        "using the Jupyter Notebook. Make sure you have\n",
        "installed Jupyter and downloaded the\n",
        "code as described in\n",
        ":ref:`chap_installation`.\n",
        "If you want to know more about Jupyter see the excellent tutorial in\n",
        "their [documentation](https://jupyter.readthedocs.io/en/latest/).\n",
        "\n",
        "\n",
        "## Editing and Running the Code Locally\n",
        "\n",
        "Suppose that the local path of the book's code is `xx/yy/d2l-en/`. Use the shell to change the directory to this path (`cd xx/yy/d2l-en`) and run the command `jupyter notebook`. If your browser does not do this automatically, open http://localhost:8888 and you will see the interface of Jupyter and all the folders containing the code of the book, as shown in :numref:`fig_jupyter00`.\n",
        "\n",
        "![The folders containing the code of this book.](https://github.com/d2l-ai/d2l-en-colab/blob/master/img/jupyter00.png?raw=1)\n",
        ":width:`600px`\n",
        ":label:`fig_jupyter00`\n",
        "\n",
        "\n",
        "You can access the notebook files by clicking on the folder displayed on the webpage.\n",
        "They usually have the suffix \".ipynb\".\n",
        "For the sake of brevity, we create a temporary \"test.ipynb\" file.\n",
        "The content displayed after you click it is\n",
        "shown in :numref:`fig_jupyter01`.\n",
        "This notebook includes a markdown cell and a code cell. The content in the markdown cell includes \"This Is a Title\" and \"This is text.\".\n",
        "The code cell contains two lines of Python code.\n",
        "\n",
        "![Markdown and code cells in the \"text.ipynb\" file.](https://github.com/d2l-ai/d2l-en-colab/blob/master/img/jupyter01.png?raw=1)\n",
        ":width:`600px`\n",
        ":label:`fig_jupyter01`\n",
        "\n",
        "\n",
        "Double click on the markdown cell to enter edit mode.\n",
        "Add a new text string \"Hello world.\" at the end of the cell, as shown in :numref:`fig_jupyter02`.\n",
        "\n",
        "![Edit the markdown cell.](https://github.com/d2l-ai/d2l-en-colab/blob/master/img/jupyter02.png?raw=1)\n",
        ":width:`600px`\n",
        ":label:`fig_jupyter02`\n",
        "\n",
        "\n",
        "As demonstrated in :numref:`fig_jupyter03`,\n",
        "click \"Cell\" $\\rightarrow$ \"Run Cells\" in the menu bar to run the edited cell.\n",
        "\n",
        "![Run the cell.](https://github.com/d2l-ai/d2l-en-colab/blob/master/img/jupyter03.png?raw=1)\n",
        ":width:`600px`\n",
        ":label:`fig_jupyter03`\n",
        "\n",
        "After running, the markdown cell is shown in :numref:`fig_jupyter04`.\n",
        "\n",
        "![The markdown cell after running.](https://github.com/d2l-ai/d2l-en-colab/blob/master/img/jupyter04.png?raw=1)\n",
        ":width:`600px`\n",
        ":label:`fig_jupyter04`\n",
        "\n",
        "\n",
        "Next, click on the code cell. Multiply the elements by 2 after the last line of code, as shown in :numref:`fig_jupyter05`.\n",
        "\n",
        "![Edit the code cell.](https://github.com/d2l-ai/d2l-en-colab/blob/master/img/jupyter05.png?raw=1)\n",
        ":width:`600px`\n",
        ":label:`fig_jupyter05`\n",
        "\n",
        "\n",
        "You can also run the cell with a shortcut (\"Ctrl + Enter\" by default) and obtain the output result from :numref:`fig_jupyter06`.\n",
        "\n",
        "![Run the code cell to obtain the output.](https://github.com/d2l-ai/d2l-en-colab/blob/master/img/jupyter06.png?raw=1)\n",
        ":width:`600px`\n",
        ":label:`fig_jupyter06`\n",
        "\n",
        "\n",
        "When a notebook contains more cells, we can click \"Kernel\" $\\rightarrow$ \"Restart & Run All\" in the menu bar to run all the cells in the entire notebook. By clicking \"Help\" $\\rightarrow$ \"Edit Keyboard Shortcuts\" in the menu bar, you can edit the shortcuts according to your preferences.\n",
        "\n",
        "## Advanced Options\n",
        "\n",
        "Beyond local editing two things are quite important: editing the notebooks in the markdown format and running Jupyter remotely.\n",
        "The latter matters when we want to run the code on a faster server.\n",
        "The former matters since Jupyter's native ipynb format stores a lot of auxiliary data that is\n",
        "irrelevant to the content,\n",
        "mostly related to how and where the code is run.\n",
        "This is confusing for Git, making\n",
        "reviewing contributions very difficult.\n",
        "Fortunately there is an alternative---native editing in the markdown format.\n",
        "\n",
        "### Markdown Files in Jupyter\n",
        "\n",
        "If you wish to contribute to the content of this book, you need to modify the\n",
        "source file (md file, not ipynb file) on GitHub.\n",
        "Using the notedown plugin we\n",
        "can modify notebooks in the md format directly in Jupyter.\n",
        "\n",
        "\n",
        "First, install the notedown plugin, run the Jupyter Notebook, and load the plugin:\n",
        "\n",
        "```\n",
        "pip install d2l-notedown  # You may need to uninstall the original notedown.\n",
        "jupyter notebook --NotebookApp.contents_manager_class='notedown.NotedownContentsManager'\n",
        "```\n",
        "\n",
        "You may also turn on the notedown plugin by default whenever you run the Jupyter Notebook.\n",
        "First, generate a Jupyter Notebook configuration file (if it has already been generated, you can skip this step).\n",
        "\n",
        "```\n",
        "jupyter notebook --generate-config\n",
        "```\n",
        "\n",
        "Then, add the following line to the end of the Jupyter Notebook configuration file (for Linux or macOS, usually in the path `~/.jupyter/jupyter_notebook_config.py`):\n",
        "\n",
        "```\n",
        "c.NotebookApp.contents_manager_class = 'notedown.NotedownContentsManager'\n",
        "```\n",
        "\n",
        "After that, you only need to run the `jupyter notebook` command to turn on the notedown plugin by default.\n",
        "\n",
        "### Running Jupyter Notebooks on a Remote Server\n",
        "\n",
        "Sometimes, you may want to run Jupyter notebooks on a remote server and access it through a browser on your local computer. If Linux or macOS is installed on your local machine (Windows can also support this function through third-party software such as PuTTY), you can use port forwarding:\n",
        "\n",
        "```\n",
        "ssh myserver -L 8888:localhost:8888\n",
        "```\n",
        "\n",
        "The above string `myserver` is the address of the remote server.\n",
        "Then we can use http://localhost:8888 to access the remote server `myserver` that runs Jupyter notebooks. We will detail on how to run Jupyter notebooks on AWS instances\n",
        "later in this appendix.\n",
        "\n",
        "### Timing\n",
        "\n",
        "We can use the `ExecuteTime` plugin to time the execution of each code cell in Jupyter notebooks.\n",
        "Use the following commands to install the plugin:\n",
        "\n",
        "```\n",
        "pip install jupyter_contrib_nbextensions\n",
        "jupyter contrib nbextension install --user\n",
        "jupyter nbextension enable execute_time/ExecuteTime\n",
        "```\n",
        "\n",
        "## Summary\n",
        "\n",
        "* Using the Jupyter Notebook tool, we can edit, run, and contribute to each section of the book.\n",
        "* We can run Jupyter notebooks on remote servers using port forwarding.\n",
        "\n",
        "\n",
        "## Exercises\n",
        "\n",
        "1. Edit and run the code in this book with the Jupyter Notebook on your local machine.\n",
        "1. Edit and run the code in this book with the Jupyter Notebook *remotely* via port forwarding.\n",
        "1. Compare the running time of the operations $\\mathbf{A}^\\top \\mathbf{B}$ and $\\mathbf{A} \\mathbf{B}$ for two square matrices in $\\mathbb{R}^{1024 \\times 1024}$. Which one is faster?\n",
        "\n",
        "\n",
        "[Discussions](https://discuss.d2l.ai/t/421)\n"
      ]
    },
    {
      "cell_type": "code",
      "source": [
        "#day 2 of data science"
      ],
      "metadata": {
        "id": "A1Firr309skq"
      },
      "id": "A1Firr309skq",
      "execution_count": 1,
      "outputs": []
    },
    {
      "cell_type": "code",
      "source": [
        "a=2\n",
        "a"
      ],
      "metadata": {
        "id": "82J_TgGg9yTq",
        "outputId": "5f85df20-d822-4dbc-983b-4336fb971dc5",
        "colab": {
          "base_uri": "https://localhost:8080/"
        }
      },
      "id": "82J_TgGg9yTq",
      "execution_count": 2,
      "outputs": [
        {
          "output_type": "execute_result",
          "data": {
            "text/plain": [
              "2"
            ]
          },
          "metadata": {},
          "execution_count": 2
        }
      ]
    },
    {
      "cell_type": "code",
      "source": [
        "list_cont=[1,\"ajay\",\"bijay\", 2,3]"
      ],
      "metadata": {
        "id": "QFqBt_6W98dL"
      },
      "id": "QFqBt_6W98dL",
      "execution_count": 3,
      "outputs": []
    },
    {
      "cell_type": "code",
      "source": [
        "list_cont[0]"
      ],
      "metadata": {
        "id": "SyCHgQAQByOq",
        "outputId": "f5cf420e-3beb-4087-cd77-e2368ea41c9f",
        "colab": {
          "base_uri": "https://localhost:8080/"
        }
      },
      "id": "SyCHgQAQByOq",
      "execution_count": 4,
      "outputs": [
        {
          "output_type": "execute_result",
          "data": {
            "text/plain": [
              "1"
            ]
          },
          "metadata": {},
          "execution_count": 4
        }
      ]
    },
    {
      "cell_type": "code",
      "source": [
        "list_cont[1]"
      ],
      "metadata": {
        "id": "gpe2boh8B6m_",
        "outputId": "437505f7-c2b0-4945-e45d-7156a7f7abf5",
        "colab": {
          "base_uri": "https://localhost:8080/",
          "height": 36
        }
      },
      "id": "gpe2boh8B6m_",
      "execution_count": 5,
      "outputs": [
        {
          "output_type": "execute_result",
          "data": {
            "text/plain": [
              "'ajay'"
            ],
            "application/vnd.google.colaboratory.intrinsic+json": {
              "type": "string"
            }
          },
          "metadata": {},
          "execution_count": 5
        }
      ]
    },
    {
      "cell_type": "code",
      "source": [
        "list_cont[1]='Baigan'"
      ],
      "metadata": {
        "id": "mFuRjYpvB-qT"
      },
      "id": "mFuRjYpvB-qT",
      "execution_count": 6,
      "outputs": []
    },
    {
      "cell_type": "code",
      "source": [
        "list_cont[1]"
      ],
      "metadata": {
        "id": "TYk_97AwCP60",
        "outputId": "4b994142-a94f-49c9-94bc-d9bc5dce4fe7",
        "colab": {
          "base_uri": "https://localhost:8080/",
          "height": 36
        }
      },
      "id": "TYk_97AwCP60",
      "execution_count": 8,
      "outputs": [
        {
          "output_type": "execute_result",
          "data": {
            "text/plain": [
              "'Baigan'"
            ],
            "application/vnd.google.colaboratory.intrinsic+json": {
              "type": "string"
            }
          },
          "metadata": {},
          "execution_count": 8
        }
      ]
    },
    {
      "cell_type": "code",
      "source": [
        "a=100\n",
        "if a >10:\n",
        "  print(\"greater\")"
      ],
      "metadata": {
        "id": "ZdrUdvY1CRCk",
        "outputId": "4310bc43-8b9d-4b43-ae36-3072bcb9708d",
        "colab": {
          "base_uri": "https://localhost:8080/"
        }
      },
      "id": "ZdrUdvY1CRCk",
      "execution_count": 9,
      "outputs": [
        {
          "output_type": "stream",
          "name": "stdout",
          "text": [
            "greater\n"
          ]
        }
      ]
    },
    {
      "cell_type": "code",
      "source": [
        "weather=\"sunny\"\n",
        "if weather==\"rainy\":\n",
        "  print(\"take umbrella\")\n",
        "elif weather==\"sunny\":\n",
        "  print(\"take sunglasses\")"
      ],
      "metadata": {
        "id": "eNjQGxQRaHzT",
        "outputId": "ba2b9557-3355-4331-c29d-7b886006c8c4",
        "colab": {
          "base_uri": "https://localhost:8080/"
        }
      },
      "id": "eNjQGxQRaHzT",
      "execution_count": 10,
      "outputs": [
        {
          "output_type": "stream",
          "name": "stdout",
          "text": [
            "take sunglasses\n"
          ]
        }
      ]
    },
    {
      "cell_type": "code",
      "source": [
        "#take an input from use check\n",
        "weather=input(\"enter the weather\")\n",
        "if weather==\"sunny\":\n",
        "  print(\"go for cricket\")\n"
      ],
      "metadata": {
        "id": "jI5KHPKwaSvF",
        "outputId": "dd538cbc-a2d5-48aa-9970-13776866b7bc",
        "colab": {
          "base_uri": "https://localhost:8080/"
        }
      },
      "id": "jI5KHPKwaSvF",
      "execution_count": 11,
      "outputs": [
        {
          "output_type": "stream",
          "name": "stdout",
          "text": [
            "enter the weathersunny\n",
            "go for cricket\n"
          ]
        }
      ]
    },
    {
      "cell_type": "code",
      "source": [
        "num=22\n",
        "if num%2==0:\n",
        "  print(\"even\")\n",
        "else:\n",
        "  print(\"odd\")"
      ],
      "metadata": {
        "id": "WQFmGJyDaiym",
        "outputId": "f926d52b-0681-44f3-fd3e-d8ed85ac8782",
        "colab": {
          "base_uri": "https://localhost:8080/"
        }
      },
      "id": "WQFmGJyDaiym",
      "execution_count": 12,
      "outputs": [
        {
          "output_type": "stream",
          "name": "stdout",
          "text": [
            "even\n"
          ]
        }
      ]
    },
    {
      "cell_type": "code",
      "source": [
        "weather=\"rainy\"\n",
        "money=100\n",
        "if (weather==\"sunny\") & (money>100): #use paranthesis when ur writing multiple conditions\n",
        "  print(\"go for cricket\")\n",
        "else:\n",
        "  print(\"go for shopping\")"
      ],
      "metadata": {
        "id": "wt7ZM3Lab4Ha",
        "outputId": "00cfdf3e-86c0-44fd-b499-4f1646b7778d",
        "colab": {
          "base_uri": "https://localhost:8080/"
        }
      },
      "id": "wt7ZM3Lab4Ha",
      "execution_count": 14,
      "outputs": [
        {
          "output_type": "stream",
          "name": "stdout",
          "text": [
            "go for shopping\n"
          ]
        }
      ]
    },
    {
      "cell_type": "code",
      "source": [
        "grade=7\n",
        "co_cirr=True\n",
        "if (grade>5) and (co_cirr):\n",
        "  print(\"pass\")"
      ],
      "metadata": {
        "id": "-2ieM4AKdlHP",
        "outputId": "6d31fe5e-11f9-4262-9a23-479d3fb4cf7b",
        "colab": {
          "base_uri": "https://localhost:8080/"
        }
      },
      "id": "-2ieM4AKdlHP",
      "execution_count": 17,
      "outputs": [
        {
          "output_type": "stream",
          "name": "stdout",
          "text": [
            "pass\n"
          ]
        }
      ]
    },
    {
      "cell_type": "code",
      "source": [
        "age=17\n",
        "if age>18:\n",
        "  print(\"major\")\n",
        "else:\n",
        "  print(\"minor\")"
      ],
      "metadata": {
        "id": "UGp1mqJBeZUo",
        "outputId": "1467bc4b-1cc8-4bcc-dfbd-41d2931660d6",
        "colab": {
          "base_uri": "https://localhost:8080/"
        }
      },
      "id": "UGp1mqJBeZUo",
      "execution_count": 19,
      "outputs": [
        {
          "output_type": "stream",
          "name": "stdout",
          "text": [
            "minor\n"
          ]
        }
      ]
    },
    {
      "cell_type": "code",
      "source": [
        "#in real life, we have multiple conditions\n",
        "age=22\n",
        "if age<18:\n",
        "  print(\"you are minor\")\n",
        "elif (18 < age <=65):\n",
        "  print(\"you are adult\")\n",
        "else:\n",
        "  print(\"you are senior citizen\")"
      ],
      "metadata": {
        "id": "mqE0-osbe4Wd",
        "outputId": "53e3e6fe-41cd-4b4c-91b2-ec5d0020182e",
        "colab": {
          "base_uri": "https://localhost:8080/"
        }
      },
      "id": "mqE0-osbe4Wd",
      "execution_count": 21,
      "outputs": [
        {
          "output_type": "stream",
          "name": "stdout",
          "text": [
            "you are adult\n"
          ]
        }
      ]
    },
    {
      "cell_type": "code",
      "source": [
        "#find min of 3 numbers"
      ],
      "metadata": {
        "id": "urHfa55qghu8"
      },
      "id": "urHfa55qghu8",
      "execution_count": 22,
      "outputs": []
    },
    {
      "cell_type": "code",
      "source": [
        "a,b,c=20,12,4\n",
        "if (a<=b) & (a<=c):\n",
        "  print(\"smallest is a\")\n",
        "elif (b<=a) & (b<=c):\n",
        "  print(\"smallest is b\")\n",
        "else:\n",
        "  print(\"smallest is c\")"
      ],
      "metadata": {
        "id": "GeSM87ebgo7P",
        "outputId": "ae2394be-8d15-4bc2-f06d-ffe90aa75c24",
        "colab": {
          "base_uri": "https://localhost:8080/"
        }
      },
      "id": "GeSM87ebgo7P",
      "execution_count": 23,
      "outputs": [
        {
          "output_type": "stream",
          "name": "stdout",
          "text": [
            "smallest is c\n"
          ]
        }
      ]
    },
    {
      "cell_type": "code",
      "source": [
        "#nested if else"
      ],
      "metadata": {
        "id": "qaTmHuczhW7V"
      },
      "id": "qaTmHuczhW7V",
      "execution_count": 24,
      "outputs": []
    },
    {
      "cell_type": "code",
      "source": [
        "is_vip=True\n",
        "age=223\n",
        "if is_vip:\n",
        "  if age>=18:\n",
        "    if age<60:\n",
        "      print(\"welcome VIP customer\")\n",
        "    else:\n",
        "      print(\"vip and senior customer\")\n",
        "  else:\n",
        "    print(\"vip is for adults\")\n",
        "else:\n",
        "  print(\"not a vip\")"
      ],
      "metadata": {
        "id": "JJYYlklrhZvR",
        "outputId": "5036d8f0-de66-4fe5-8358-7eb3b24ac902",
        "colab": {
          "base_uri": "https://localhost:8080/"
        }
      },
      "id": "JJYYlklrhZvR",
      "execution_count": 28,
      "outputs": [
        {
          "output_type": "stream",
          "name": "stdout",
          "text": [
            "vip and senior customer\n"
          ]
        }
      ]
    },
    {
      "cell_type": "code",
      "source": [
        "#design a survey\n",
        "name=input(\"enter ur name\")\n",
        "email=input(\"enter ur email\")\n",
        "password=input(\"enter ur password\")\n",
        "if name==\"\":\n",
        "  print(\"please enter a valid name\")\n",
        "else:\n",
        "  if \"@\" not in email:\n",
        "    print(\"enter a valid emailID\")\n",
        "  else :\n",
        "    if len(password)<7:\n",
        "      print(\"enter a valid passwrd\")\n",
        "    else:\n",
        "      print(\"success\")"
      ],
      "metadata": {
        "id": "EWeT6eYzkBcK",
        "outputId": "2968d296-0fae-4c49-bbab-7865a74374ec",
        "colab": {
          "base_uri": "https://localhost:8080/"
        }
      },
      "id": "EWeT6eYzkBcK",
      "execution_count": 30,
      "outputs": [
        {
          "output_type": "stream",
          "name": "stdout",
          "text": [
            "enter ur namegadf\n",
            "enter ur emailjfdsjhfds@\n",
            "enter ur passwordnkdf\n",
            "enter a valid passwrd\n"
          ]
        }
      ]
    },
    {
      "cell_type": "code",
      "source": [],
      "metadata": {
        "id": "ZCTKD_9jlWPn"
      },
      "id": "ZCTKD_9jlWPn",
      "execution_count": null,
      "outputs": []
    }
  ],
  "metadata": {
    "kernelspec": {
      "display_name": "Python 3",
      "name": "python3"
    },
    "language_info": {
      "name": "python"
    },
    "required_libs": [],
    "colab": {
      "provenance": []
    }
  },
  "nbformat": 4,
  "nbformat_minor": 5
}